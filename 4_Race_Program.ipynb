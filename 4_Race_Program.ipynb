{
 "cells": [
  {
   "cell_type": "markdown",
   "id": "01ab48f0-f185-48f7-a0de-6098d8fae3ab",
   "metadata": {},
   "source": [
    "# 04 - Race Program: Model Deployment\n",
    "Author: George Gorospe, george.gorospe@nmaia.net (updated 1/17/2024)\n",
    "\n",
    "# In this fourth notebook, we'll use the the machine learning model we trained previously to pilot our vehicle around a track.\n",
    "\n",
    "We've done a lot of work collecting images and training a model to act as the pilot of our self-driving race car. \n",
    "In this notebook, we'll input the live camera feed into the model and take steering directions as our output.s our pilot for our self-driving car."
   ]
  },
  {
   "cell_type": "code",
   "execution_count": 1,
   "id": "6954574b-f67f-4c9c-ab62-3dd75e20b2e4",
   "metadata": {
    "execution": {
     "iopub.execute_input": "2024-11-16T04:02:24.641987Z",
     "iopub.status.busy": "2024-11-16T04:02:24.640942Z",
     "iopub.status.idle": "2024-11-16T04:02:29.252331Z",
     "shell.execute_reply": "2024-11-16T04:02:29.250906Z",
     "shell.execute_reply.started": "2024-11-16T04:02:24.641901Z"
    }
   },
   "outputs": [],
   "source": [
    "# Importing Required Libraries\n",
    "\n",
    "# Machine Learning Libraries\n",
    "import torch\n",
    "from torch2trt import TRTModule\n",
    "import torchvision.transforms as transforms\n",
    "import torch.nn.functional as F\n",
    "\n",
    "# Vehicle Control Libraries from invidia\n",
    "from jetracer.nvidia_racecar import NvidiaRacecar\n",
    "from jetcam.csi_camera import CSICamera\n",
    "from jetcam.utils import bgr8_to_jpeg\n",
    "\n",
    "\n",
    "# General Use Libraries\n",
    "import cv2\n",
    "import ipywidgets\n",
    "import threading\n",
    "import PIL.Image\n",
    "import numpy as np\n",
    "\n",
    "\n",
    "# Jupyter Labs Libraries\n",
    "import traitlets\n",
    "from IPython.display import display\n",
    "from ipywidgets import Layout, Button, Box\n",
    "import ipywidgets.widgets as widgets\n",
    "from ipyfilechooser import FileChooser\n",
    "\n",
    "\n",
    "# Useful Variables\n",
    "mean = torch.Tensor([0.485, 0.456, 0.406]).cuda()\n",
    "std = torch.Tensor([0.229, 0.224, 0.225]).cuda()\n",
    "\n",
    "# Custom functions\n",
    "def preprocess(image):\n",
    "    device = torch.device('cuda')\n",
    "    image = PIL.Image.fromarray(image)\n",
    "    image = transforms.functional.to_tensor(image).to(device)\n",
    "    image.sub_(mean[:, None, None]).div_(std[:, None, None])\n",
    "    return image[None, ...]"
   ]
  },
  {
   "cell_type": "markdown",
   "id": "03e9ad86-0d43-46dd-9820-dd4c7549cc75",
   "metadata": {},
   "source": [
    "## Starting Vehicle Control and Camera Control"
   ]
  },
  {
   "cell_type": "code",
   "execution_count": 2,
   "id": "6c03deef-4168-4c6c-aef9-67d8008be84f",
   "metadata": {
    "execution": {
     "iopub.execute_input": "2024-11-16T04:02:29.260476Z",
     "iopub.status.busy": "2024-11-16T04:02:29.257696Z",
     "iopub.status.idle": "2024-11-16T04:02:29.799669Z",
     "shell.execute_reply": "2024-11-16T04:02:29.798506Z",
     "shell.execute_reply.started": "2024-11-16T04:02:29.260423Z"
    }
   },
   "outputs": [
    {
     "name": "stdout",
     "output_type": "stream",
     "text": [
      "GST_ARGUS: Creating output stream\n",
      "CONSUMER: Waiting until producer is connected...\n",
      "GST_ARGUS: Available Sensor modes :\n",
      "GST_ARGUS: 3280 x 2464 FR = 21.000000 fps Duration = 47619048 ; Analog Gain range min 1.000000, max 10.625000; Exposure Range min 13000, max 683709000;\n",
      "\n",
      "GST_ARGUS: 3280 x 1848 FR = 28.000001 fps Duration = 35714284 ; Analog Gain range min 1.000000, max 10.625000; Exposure Range min 13000, max 683709000;\n",
      "\n",
      "GST_ARGUS: 1920 x 1080 FR = 29.999999 fps Duration = 33333334 ; Analog Gain range min 1.000000, max 10.625000; Exposure Range min 13000, max 683709000;\n",
      "\n",
      "GST_ARGUS: 1640 x 1232 FR = 29.999999 fps Duration = 33333334 ; Analog Gain range min 1.000000, max 10.625000; Exposure Range min 13000, max 683709000;\n",
      "\n",
      "GST_ARGUS: 1280 x 720 FR = 59.999999 fps Duration = 16666667 ; Analog Gain range min 1.000000, max 10.625000; Exposure Range min 13000, max 683709000;\n",
      "\n",
      "GST_ARGUS: Running with following settings:\n",
      "   Camera index = 0 \n",
      "   Camera mode  = 4 \n",
      "   Output Stream W = 1280 H = 720 \n",
      "   seconds to Run    = 0 \n",
      "   Frame Rate = 59.999999 \n",
      "GST_ARGUS: Setup Complete, Starting captures for 0 seconds\n",
      "GST_ARGUS: Starting repeat capture requests.\n",
      "CONSUMER: Producer has connected; continuing.\n"
     ]
    },
    {
     "name": "stderr",
     "output_type": "stream",
     "text": [
      "[ WARN:0] global /home/ubuntu/build_opencv/opencv/modules/videoio/src/cap_gstreamer.cpp (1100) open OpenCV | GStreamer warning: Cannot query video position: status=0, value=-1, duration=-1\n"
     ]
    }
   ],
   "source": [
    "camera = CSICamera(width=224, height=224)\n",
    "car = NvidiaRacecar()"
   ]
  },
  {
   "cell_type": "markdown",
   "id": "d6f5e9fc-5ebe-4b36-86a5-a0ade6b0ec52",
   "metadata": {},
   "source": [
    "## Selecting a trained Model\n",
    "Use the file chooser to select your model"
   ]
  },
  {
   "cell_type": "code",
   "execution_count": 3,
   "id": "071036d8-1889-43e6-a4ef-8df1fb195bc0",
   "metadata": {
    "execution": {
     "iopub.execute_input": "2024-11-16T04:02:29.801851Z",
     "iopub.status.busy": "2024-11-16T04:02:29.801124Z",
     "iopub.status.idle": "2024-11-16T04:02:29.899127Z",
     "shell.execute_reply": "2024-11-16T04:02:29.898013Z",
     "shell.execute_reply.started": "2024-11-16T04:02:29.801805Z"
    }
   },
   "outputs": [
    {
     "data": {
      "application/vnd.jupyter.widget-view+json": {
       "model_id": "d614447464614d4eaa66092db7ad3dd6",
       "version_major": 2,
       "version_minor": 0
      },
      "text/plain": [
       "FileChooser(path='/home/racer_core/Models/trt', filename='', title='', show_hidden=False, select_desc='Select'…"
      ]
     },
     "metadata": {},
     "output_type": "display_data"
    }
   ],
   "source": [
    "# Create and display a FileChooser widget\n",
    "fc = FileChooser('/home/racer_core/Models/trt')\n",
    "display(fc)\n",
    "fc.filter_pattern = ['*.pth']\n",
    "# Change the title (use '' to hide)\n",
    "fc.title = '<b>Choose Model for Race Program </b>'\n",
    "\n",
    "# Sample callback function\n",
    "def change_title(chooser):\n",
    "    chooser.title = '<b>Model Selected.</b>'\n",
    "\n",
    "# Register callback function\n",
    "fc.register_callback(change_title)"
   ]
  },
  {
   "cell_type": "markdown",
   "id": "1cb1d70a-bc52-4580-94a1-519c79f9c618",
   "metadata": {},
   "source": [
    "## Creating a Graphical User Interface for Race Program"
   ]
  },
  {
   "cell_type": "code",
   "execution_count": 4,
   "id": "8e0974fe-b74a-4486-8725-348ff2f6ef05",
   "metadata": {
    "execution": {
     "iopub.execute_input": "2024-11-16T04:11:26.587377Z",
     "iopub.status.busy": "2024-11-16T04:11:26.586268Z",
     "iopub.status.idle": "2024-11-16T04:11:27.413598Z",
     "shell.execute_reply": "2024-11-16T04:11:27.412533Z",
     "shell.execute_reply.started": "2024-11-16T04:11:26.587292Z"
    }
   },
   "outputs": [
    {
     "name": "stdout",
     "output_type": "stream",
     "text": [
      "[11/15/2024-20:11:27] [TRT] [W] Using an engine plan file across different models of devices is not recommended and is likely to affect performance or even cause errors.\n"
     ]
    },
    {
     "data": {
      "application/vnd.jupyter.widget-view+json": {
       "model_id": "cc4fbf8e73a746f9bd8068fe312b837f",
       "version_major": 2,
       "version_minor": 0
      },
      "text/plain": [
       "HBox(children=(VBox(children=(FloatSlider(value=1.0, description='Steering Gain', layout=Layout(width='300px')…"
      ]
     },
     "metadata": {},
     "output_type": "display_data"
    }
   ],
   "source": [
    "# Warm starting the optimized model with the weights from our trained and optimized model saved in last notebook\n",
    "model_trt = TRTModule()\n",
    "model_trt_path = fc.selected\n",
    "model_trt.load_state_dict(torch.load(model_trt_path))\n",
    "\n",
    "# Creating a Driving/Prediction Graphical User Interface\n",
    "state_widget = ipywidgets.ToggleButtons(options=['On', 'Off'], description='Camera', value='On')\n",
    "prediction_widget = ipywidgets.Image(format='jpeg', width=camera.width, height=camera.height)\n",
    "\n",
    "live_execution_widget = ipywidgets.VBox([\n",
    "    prediction_widget,\n",
    "    state_widget\n",
    "])\n",
    "\n",
    "network_output_slider = widgets.FloatSlider(description='Network Output', min=-1.0, max=1.0, value=0, step=0.01, orientation='horizontal', disabled=False, layout={'width': '400px'})\n",
    "steering_gain_slider  = widgets.FloatSlider(description='Steering Gain', min=-1.0, max=2.0, value=1.0, step=0.01, orientation='horizontal', layout={'width': '300px'})\n",
    "steering_bias_slider  = widgets.FloatSlider(description='Steering Bias', min=-0.5, max=0.5, value=0.0, step=0.01, orientation='horizontal', layout={'width': '300px'})\n",
    "steering_value_slider = widgets.FloatSlider(description='Steering', min=-1.0, max=1.0, value=0, step=0.01, orientation='horizontal', disabled=False, layout={'width': '400px'})\n",
    "throttle_slider = widgets.FloatSlider(description='Throttle', min=-1.0, max=1.0, value=0.15, step=0.01, orientation='vertical')\n",
    "\n",
    "\n",
    "steering_gain_link   = traitlets.link((steering_gain_slider, 'value'), (car, 'steering_gain'))\n",
    "steering_offset_link = traitlets.link((steering_bias_slider, 'value'), (car, 'steering_offset'))\n",
    "#steering_value_link  = traitlets.link((steering_value_slider, 'value'), (car, 'steering'))\n",
    "throttle_slider_link = traitlets.link((throttle_slider, 'value'), (car, 'throttle'))\n",
    "\n",
    "display(\n",
    "    widgets.HBox(\n",
    "        [widgets.VBox([steering_gain_slider, steering_bias_slider],layout=Layout(align_items='center')),\n",
    "         live_execution_widget,\n",
    "         throttle_slider]\n",
    "    )\n",
    ")\n",
    "\n",
    "def update(change):\n",
    "    global blocked_slider, robot\n",
    "    new_image = change['new'] \n",
    "    \n",
    "    image = preprocess(new_image).half()\n",
    "    output = model_trt(image).detach().cpu().numpy().flatten()\n",
    "    x = float(output[0])\n",
    "    y = float(output[0])\n",
    "    \n",
    "    network_output_slider.value = x\n",
    "    steering = x * steering_gain_slider.value + steering_bias_slider.value\n",
    "    if(steering<-1.0):\n",
    "        steering_value_slider.value = -1.0\n",
    "    elif(steering>1.0):\n",
    "        steering_value_slider.value = 1.0\n",
    "    else:\n",
    "        steering_value_slider.value = steering \n",
    "\n",
    "    # Sending steering value to car\n",
    "    car.steering = steering # Previously was x\n",
    "    \n",
    "    if(state_widget.value == 'On'):\n",
    "        x = int(camera.width * (x / 2.0 + 0.5))\n",
    "        y = int(camera.height * (y / 2.0 + 0.5))\n",
    "        steering_mapping = int(camera.width * (steering / 2.0 + 0.5))\n",
    "        prediction = new_image.copy()\n",
    "        # Plotting the output of the model in GREEN\n",
    "        #prediction[0:90, 0:224] = 0\n",
    "        prediction = cv2.circle(prediction, (x, 112), 8, (255, 0, 0), 3)\n",
    "        # Plotting the car steering command in BLUE\n",
    "        prediction_and_steering = cv2.circle(prediction, (steering_mapping, 112), 8, (0, 255, 0), 3)\n",
    "        prediction_widget.value = bgr8_to_jpeg(prediction_and_steering)\n",
    "        # ADD STEERING WIDGET VALUE HERE\n",
    "        \n",
    "update({'new': camera.value})  # we call the function once to initialize"
   ]
  },
  {
   "cell_type": "markdown",
   "id": "6dd7c7a4-7f88-44d8-8523-c3aa04884cc3",
   "metadata": {},
   "source": [
    " # <font color='BLUE'>BLUE = Model Output</font> &nbsp;&nbsp;&nbsp;&nbsp; <font color='GREEN'>Green = Car Steering Command</font> \n",
    " Run the next two cells to start the camera.\n",
    " When you're done racing, run the final cell to stop the camera.\n",
    "\n",
    " \n"
   ]
  },
  {
   "cell_type": "code",
   "execution_count": 5,
   "id": "5af6cc24-0426-488e-9caf-579d5271066b",
   "metadata": {
    "execution": {
     "iopub.execute_input": "2024-11-16T04:11:27.642460Z",
     "iopub.status.busy": "2024-11-16T04:11:27.641511Z",
     "iopub.status.idle": "2024-11-16T04:11:27.651053Z",
     "shell.execute_reply": "2024-11-16T04:11:27.649002Z",
     "shell.execute_reply.started": "2024-11-16T04:11:27.642376Z"
    }
   },
   "outputs": [],
   "source": [
    "camera.observe(update, names='value') "
   ]
  },
  {
   "cell_type": "code",
   "execution_count": 6,
   "id": "f15db666-eff3-4b95-93c9-4383d34afbdc",
   "metadata": {
    "execution": {
     "iopub.execute_input": "2024-11-16T04:11:28.381194Z",
     "iopub.status.busy": "2024-11-16T04:11:28.380050Z",
     "iopub.status.idle": "2024-11-16T04:11:28.390704Z",
     "shell.execute_reply": "2024-11-16T04:11:28.389008Z",
     "shell.execute_reply.started": "2024-11-16T04:11:28.381110Z"
    }
   },
   "outputs": [],
   "source": [
    "camera.running = True"
   ]
  },
  {
   "cell_type": "code",
   "execution_count": null,
   "id": "33a7b0a7-6b05-47bf-ae13-3d40ca9d7774",
   "metadata": {},
   "outputs": [],
   "source": [
    "camera.close"
   ]
  }
 ],
 "metadata": {
  "kernelspec": {
   "display_name": "Python 3 (ipykernel)",
   "language": "python",
   "name": "python3"
  },
  "language_info": {
   "codemirror_mode": {
    "name": "ipython",
    "version": 3
   },
   "file_extension": ".py",
   "mimetype": "text/x-python",
   "name": "python",
   "nbconvert_exporter": "python",
   "pygments_lexer": "ipython3",
   "version": "3.8.10"
  }
 },
 "nbformat": 4,
 "nbformat_minor": 5
}
