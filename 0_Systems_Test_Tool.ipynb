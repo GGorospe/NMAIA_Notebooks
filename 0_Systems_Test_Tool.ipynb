{
 "cells": [
  {
   "cell_type": "markdown",
   "id": "a3ec0c8d-3652-4d18-9cd9-31004e15c614",
   "metadata": {},
   "source": [
    "# 00 - NMAIA AI Racer Systems Test Tool\n",
    "Author: George Gorospe, george.gorospe@nmaia.net (updated 1/14/2025)\n",
    "\n",
    "### This notebook is used to test each of the AI Racer's sytems. Read each subsection to find out more about your AI Racer! This type of test tool is useful for testing the functions of the racer and it's software."
   ]
  },
  {
   "cell_type": "markdown",
   "id": "08610b0e-8053-49a2-908a-91dc48b933ce",
   "metadata": {},
   "source": [
    "## Camera Test\n",
    "### The AI Racer uses a single camera, this camera is connected to the racer's computer via Camera Serial Interface (CSI), This unique interface is simple, fast and doen't take up USB ports. However, it does require extra drivers. \n",
    "\n",
    "### The following code will test the camera system. If successful, then a single image, captured by the camera, will be displayed."
   ]
  },
  {
   "cell_type": "code",
   "execution_count": null,
   "id": "6cc71fa3-c852-4ecb-bb8c-0849077aaf24",
   "metadata": {},
   "outputs": [],
   "source": [
    "# Importing required libraries\n",
    "from jetcam.csi_camera import CSICamera\n",
    "import ipywidgets\n",
    "from IPython.display import display\n",
    "from jetcam.utils import bgr8_to_jpeg\n",
    "\n",
    "# Set camera parameters\n",
    "camera = CSICamera(width=224, height=224)\n",
    "\n",
    "# Create a user interface for displaying the image\n",
    "image_widget = ipywidgets.Image(format='jpeg')\n",
    "\n",
    "# Collecting the image, processing the image, and displaying the image\n",
    "image = camera.read()\n",
    "image = bgr8_to_jpeg(image)\n",
    "image_widget.value = image\n",
    "display(image_widget)"
   ]
  },
  {
   "cell_type": "markdown",
   "id": "d23867ae-3f81-4b77-9e1c-70738684b47a",
   "metadata": {},
   "source": [
    "### You should see an image captured by your camera. "
   ]
  },
  {
   "cell_type": "markdown",
   "id": "c7fd7042-f0a7-4960-9e6e-c3239dcf03d3",
   "metadata": {},
   "source": [
    "## Servo Controller Test\n",
    "### The AI Racer uses a Servo Controller Board to produce special pulse width modulated (PWM) signals to control the steering servo motor and the brushless motor via an electronic speed controller (ESC). The servo controller board is used because the Nvidia Jetson Orin Nano computer can't create these special signals on its own. The following code block initialized the libraries required to produce the PWM signal and produces a signal to control the steering servo of the AI Racer.\n",
    "\n",
    "### IMPORTANT: place the racer off the ground, all 4 wheels should be in the air.\n",
    "### IMPORTANT: befor running the next cell, ensure that the propulsion system is on, and that the remote controller is set to AI MODE."
   ]
  },
  {
   "cell_type": "code",
   "execution_count": null,
   "id": "f796ac5f-206c-419f-9966-ef19c96c87d9",
   "metadata": {},
   "outputs": [],
   "source": [
    "# Importing required Libaries\n",
    "import cv2, glob\n",
    "import ipywidgets\n",
    "import ipywidgets.widgets as widgets\n",
    "from ipywidgets import Layout\n",
    "\n",
    "import traitlets\n",
    "from IPython.display import display\n",
    "\n",
    "# Style and Layout\n",
    "Style = {'description_width': 'initial'}\n",
    "\n",
    "# Setup of NvidiaRacecar Object: Used to contro the steering and throttle of our AI racer.\n",
    "from jetracer.nvidia_racecar import NvidiaRacecar\n",
    "car = NvidiaRacecar()\n",
    "\n",
    "# Setup of Steering/Throttle graphic user interface (GUI)\n",
    "# 1. Create the graphic controls\n",
    "# 2. Connect callback functions and connect them to the controls so they activate when the controls are used\n",
    "# 3. Create a display for the controls with instructions\n",
    "\n",
    "###### 1. Creating graphic controls\n",
    "\n",
    "# Steering Control textbox\n",
    "# We want to explore the full range of the servo by issuing commands.\n",
    "steering_control = widgets.FloatText(value=.2, description='car.steering =', step = 0.01, style =  Style,layout=Layout(width='150px', height='30px'))\n",
    "throttle_control = widgets.FloatText(value=.26, description='car.throttle =', step = 0.01, style =  Style,layout=Layout(width='150px', height='30px'))\n",
    "\n",
    "\n",
    "###### 2. Connecting callback functions and connecting them to the controls\n",
    "\n",
    "# This fuction executes when the steering value is changed\n",
    "def steering_callback(change):\n",
    "    car.steering = steering_control.value # Issue servo steering command by the computer to the vehicle's steering servo\n",
    "\n",
    "def throttle_callback(change):\n",
    "    car.throttle = throttle_control.value # Issue throttle command by the computer to the vehicle's speed controller\n",
    "\n",
    "# Callback connections (Observers)\n",
    "steering_control.observe(steering_callback, names='value') # Observes the steering_control widget\n",
    "throttle_control.observe(throttle_callback, names='value') # Observes the throttle_control widget\n",
    "\n",
    "###### 3. Display the controls with instructions\n",
    "instructions_01 = widgets.Label(value=str(\"INSTRUCTIONS: Use the following controls to test the racer's control system. Slowly increase/decrease the values.\"))\n",
    "control_UI = widgets.VBox([instructions_01, steering_control, throttle_control])\n",
    "\n",
    "display(control_UI)"
   ]
  },
  {
   "cell_type": "markdown",
   "id": "3b0c76f6-bad8-4954-9af5-c9a68872a2cc",
   "metadata": {},
   "source": [
    "## Game Controller Test\n",
    "### The AI Racer has two controllers: a (black) radio controller from Futaba, that sends signals directly to the racer via receiver and a (grey) game controller that sends signals via bluetooth to the racer's computer. This test checks that the game controller is successfully connected to the computer."
   ]
  },
  {
   "cell_type": "code",
   "execution_count": null,
   "id": "03c1e751-0330-445d-bf39-7faac7413832",
   "metadata": {},
   "outputs": [],
   "source": [
    "import ipywidgets.widgets as widgets\n",
    "\n",
    "controller = widgets.Controller(index=0)  # replace with index of your controller\n",
    "# Gamepad Steering Representation: Left (1.0) --- Center (0.0) --- Right (-1.0)\n",
    "# Gamepad Throttle Representation: Forward (1.0) --- Zero Throttle (0.0) --- NOT USED (0.0 to -1.0)\n",
    "# Gamepad Reverse Representation: Reverse (1.0) --- Zero Reverse Throttle (0.0)\n",
    "\n",
    "display(controller)"
   ]
  }
 ],
 "metadata": {
  "kernelspec": {
   "display_name": "Python 3 (ipykernel)",
   "language": "python",
   "name": "python3"
  },
  "language_info": {
   "codemirror_mode": {
    "name": "ipython",
    "version": 3
   },
   "file_extension": ".py",
   "mimetype": "text/x-python",
   "name": "python",
   "nbconvert_exporter": "python",
   "pygments_lexer": "ipython3",
   "version": "3.10.12"
  }
 },
 "nbformat": 4,
 "nbformat_minor": 5
}
