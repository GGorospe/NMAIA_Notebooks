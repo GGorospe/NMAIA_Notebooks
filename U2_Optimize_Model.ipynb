{
 "cells": [
  {
   "cell_type": "markdown",
   "id": "d730756d-5fbe-4824-8067-8e81022ab591",
   "metadata": {},
   "source": [
    "# U2 - Utilities: Optimize Model\n",
    "Author: George Gorospe, george.gorospe@nmaia.net (updated 1/15/2025)\n",
    "\n",
    "## In this second utility notebook we use torch2TRT, a tool to convert PyTorch models to TensorRT models. This conversion increases the performance of the model during inference. This means that when live images collected from the camera are sent (60 per second) to the model, the model's processing time for each frame is accelerated."
   ]
  },
  {
   "cell_type": "code",
   "execution_count": null,
   "id": "1132c327-4a47-4930-a030-12f3fbb58b63",
   "metadata": {},
   "outputs": [],
   "source": [
    "# Importing Required Libraries\n",
    "# General use libraries\n",
    "import os\n",
    "from ipyfilechooser import FileChooser\n",
    "\n",
    "# Custom library from Nvidia to accelerate inference\n",
    "from torch2trt import torch2trt\n",
    "\n",
    "# PyTorch libraries\n",
    "import torch\n",
    "import torchvision # Import the TorchVision library from PyTorch\n",
    "from torchvision.models import ResNet18_Weights \n",
    "from torchvision.models import ResNet34_Weights \n",
    "from torchvision.models import ResNet50_Weights\n",
    "\n",
    "# Static variables\n",
    "optimized_model_folder = \"/home/racer_core/Models/trt/\"\n",
    "# Model Output\n",
    "output_dim = 2"
   ]
  },
  {
   "cell_type": "markdown",
   "id": "a3bbd16c-59f6-4b8a-a2ba-645639d8851d",
   "metadata": {},
   "source": [
    "## Next, select the model you would like to optimize."
   ]
  },
  {
   "cell_type": "code",
   "execution_count": null,
   "id": "8cd83969-1774-44e1-ac48-120503fe14c3",
   "metadata": {},
   "outputs": [],
   "source": [
    "# Create and display a FileChooser widget\n",
    "fc = FileChooser('/home/racer_core/Models')\n",
    "\n",
    "# Set a file filter pattern (uses https://docs.python.org/3/library/fnmatch.html)\n",
    "fc.filter_pattern = '*.pth'\n",
    "\n",
    "display(fc)\n",
    "# Change the title (use '' to hide)\n",
    "fc.title = '<b>Choose a model for optimization</b>'\n",
    "\n",
    "# Sample callback function\n",
    "def change_title(chooser):\n",
    "    chooser.title = '<b>Model Selected.</b>'\n",
    "\n",
    "# Register callback function\n",
    "fc.register_callback(change_title)"
   ]
  },
  {
   "cell_type": "code",
   "execution_count": null,
   "id": "2a48ddf6-9207-4490-871e-43c41958c73d",
   "metadata": {},
   "outputs": [],
   "source": [
    "# Inspecting Model:\n",
    "model_name = fc.selected_filename\n",
    "model_name = model_name.split(\".\")[-2] # extract the model name without file extention\n",
    "model_file_path = fc.selected # extract full path to the model\n",
    "\n",
    "# Building the file path and new filename for the optimized model\n",
    "optimized_model_file_path = optimized_model_folder + model_name + \"_TRT.pth\"\n",
    "\n",
    "# Model Name check: did we already optimize this model? if so, throw an error!\n",
    "if os.path.isfile(optimized_model_file_path):\n",
    "    raise Exception('Sorry, an optimized model with same name already exists, perhaps you already optimized this model?')"
   ]
  },
  {
   "cell_type": "code",
   "execution_count": null,
   "id": "4c5a37e2-da7d-496e-b98d-b1d4a52abe82",
   "metadata": {},
   "outputs": [],
   "source": [
    "# First Optimization Cell\n",
    "# Warm starting the new model to be optimized - loading weights from trained model into untrained model\n",
    "# Start by selecting your model structure, it should match your trained model, the default is listed\n",
    "model_name = \"Resnet 18\"\n",
    "model = torchvision.models.resnet18(weights=ResNet18_Weights.DEFAULT)\n",
    "model.fc = torch.nn.Linear(512, output_dim)\n",
    "\n",
    "# OPTIONAL: Uncomment one of these other models if you have used their structure in your training.\n",
    "# Resnet 34\n",
    "#model_name = \"Resnet 34\"\n",
    "#model = torchvision.models.resnet34(pretrained=True)\n",
    "#model.fc = torch.nn.Linear(512, output_dim)\n",
    "\n",
    "# Resnet 50\n",
    "#model_name = \"Resnet 50\"\n",
    "#model = torch.hub.load(\"pytorch/vision\", \"resnet50\", weights=\"IMAGENET1K_V2\")\n",
    "#model.fc = torch.nn.Linear(2048, output_dim)\n",
    "\n",
    "\n",
    "model = model.cuda().eval().half()\n",
    "model.load_state_dict(torch.load(model_file_path, weights_only=True))"
   ]
  },
  {
   "cell_type": "code",
   "execution_count": null,
   "id": "557c8122-cd36-4b39-a6c5-22cff4e235f3",
   "metadata": {},
   "outputs": [],
   "source": [
    "# Second Optimization Cell\n",
    "\n",
    "# Example structure of the input data\n",
    "data = torch.zeros((1, 3, 224, 224)).cuda().half()\n",
    "\n",
    "# Model optimization via quantitization, or the reduction of overall model size by reducing the representation of model weights.\n",
    "model_trt = torch2trt(model, [data], fp16_mode=True)\n",
    "\n",
    "# Saving the new optimized model to disk with a new name\n",
    "torch.save(model_trt.state_dict(), optimized_model_file_path)\n",
    "\n",
    "# Print output\n",
    "print(\"Successfully optimized Model!\")\n",
    "print(f\"Optimized Model: {optimized_model_file_path}\") "
   ]
  },
  {
   "cell_type": "code",
   "execution_count": null,
   "id": "399bebdb-cf3e-4ebe-be75-2247d9ff9ca5",
   "metadata": {},
   "outputs": [],
   "source": []
  }
 ],
 "metadata": {
  "kernelspec": {
   "display_name": "Python 3 (ipykernel)",
   "language": "python",
   "name": "python3"
  },
  "language_info": {
   "codemirror_mode": {
    "name": "ipython",
    "version": 3
   },
   "file_extension": ".py",
   "mimetype": "text/x-python",
   "name": "python",
   "nbconvert_exporter": "python",
   "pygments_lexer": "ipython3",
   "version": "3.10.12"
  }
 },
 "nbformat": 4,
 "nbformat_minor": 5
}
