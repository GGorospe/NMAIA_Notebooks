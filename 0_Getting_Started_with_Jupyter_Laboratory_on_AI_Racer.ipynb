{
 "cells": [
  {
   "cell_type": "markdown",
   "id": "01821b45-651d-436b-94c6-f2c2dc086566",
   "metadata": {},
   "source": [
    "# 0 - Getting Started with Jupyter Laboratory on AI Racer\n",
    "Author: George Gorospe, george.gorospe@nmaia.net (updated 3/8/2025)\n",
    "\n",
    "### In this introductory notebook, you'll learn more about Jupyter Laboratory, the primary way we'll interact with our robot. Jupyter Laboratory is a web-based interface that we can use to program, visulize data, or control our AI racer."
   ]
  },
  {
   "cell_type": "markdown",
   "id": "c5564d71-54fe-4676-9b42-bb575f4ef2eb",
   "metadata": {},
   "source": [
    "## This is a jupyter notebook. It has the file extension \".ipynb\"\n",
    "\n",
    "## Jupyter notebooks have two types of cells:\n",
    "1. A markdown cell (like this one)."
   ]
  },
  {
   "cell_type": "code",
   "execution_count": null,
   "id": "35a875fb-4185-4eac-8193-b68bd95fafc8",
   "metadata": {},
   "outputs": [],
   "source": [
    "# 2. A code cell (like this one).\n",
    "# Code cells are treated like small python programs.\n",
    "# You can press the triangular \"Play\" button at the top of this \n",
    "# window to execute the code in this cell.\n",
    "\n",
    "print(\"Welcome to AI Racer\")"
   ]
  },
  {
   "cell_type": "markdown",
   "id": "c6e80c36-184b-4a66-b161-873b1f62235a",
   "metadata": {},
   "source": [
    "## Occasionally, you'll need to run cells and interact with widgets.\n",
    "## The following cell creates a widget and displys it for you to play with."
   ]
  },
  {
   "cell_type": "code",
   "execution_count": null,
   "id": "5538f9f8-8411-4b44-ba94-f1c92cd6204e",
   "metadata": {},
   "outputs": [],
   "source": [
    "# Creating a few sliders in this cell\n",
    "# Importing the ipywidgets library that will help us with the widgets\n",
    "\n",
    "# Importing the ipywidgets library\n",
    "import ipywidgets as widgets\n",
    "\n",
    "# Step 1 create a widget, you can find a list of more widgets here:\n",
    "# https://ipywidgets.readthedocs.io/en/stable/examples/Widget%20List.html\n",
    "\n",
    "slider_1 = widgets.IntSlider(\n",
    "    value=7,\n",
    "    min=0,\n",
    "    max=10,\n",
    "    step=1,\n",
    "    description='Slider #1:',\n",
    "    disabled=False,\n",
    "    continuous_update=False,\n",
    "    orientation='horizontal',\n",
    "    readout=True,\n",
    "    readout_format='d'\n",
    ")\n",
    "\n",
    "slider_2 = widgets.FloatSlider(\n",
    "    value=7.5,\n",
    "    min=0,\n",
    "    max=10.0,\n",
    "    step=0.1,\n",
    "    description='Slider #2:',\n",
    "    disabled=False,\n",
    "    continuous_update=False,\n",
    "    orientation='horizontal',\n",
    "    readout=True,\n",
    "    readout_format='.1f',\n",
    ")\n",
    "\n",
    "\n",
    "# Step 2 display the widgets you created\n",
    "display(slider_1)\n",
    "display(slider_2)"
   ]
  },
  {
   "cell_type": "code",
   "execution_count": null,
   "id": "1d2a75c5-d244-499b-bef0-7ade49efde6d",
   "metadata": {},
   "outputs": [],
   "source": [
    "# NOTE: the parameters and values of the widgets are also acessible.\n",
    "print(slider_2.value)"
   ]
  },
  {
   "cell_type": "markdown",
   "id": "d26c2185-d8c9-4622-84bb-89d014614605",
   "metadata": {},
   "source": [
    "## In jupyter notebooks, the variables you create in one cell are available in all following cells:"
   ]
  },
  {
   "cell_type": "code",
   "execution_count": null,
   "id": "819e6b06-8101-427d-9d06-3e7ca0322b60",
   "metadata": {},
   "outputs": [],
   "source": [
    "x = 41"
   ]
  },
  {
   "cell_type": "code",
   "execution_count": null,
   "id": "2e775815-f132-470b-b592-0b945f1271a2",
   "metadata": {},
   "outputs": [],
   "source": [
    "print(x)"
   ]
  },
  {
   "cell_type": "markdown",
   "id": "3b8f9fcd-ab2e-4872-935b-2bd60630424a",
   "metadata": {},
   "source": [
    "## Jupyter notebooks are a great place to practice python.\n",
    "## You can write small programs in each cell and experiment with python and machine learning."
   ]
  },
  {
   "cell_type": "markdown",
   "id": "134a8f43-572d-4b6f-862a-aa22216f5330",
   "metadata": {},
   "source": [
    "## Now that you have completed this notebook, move on to notebook 1_Robot_Calibration.ipynb"
   ]
  },
  {
   "cell_type": "code",
   "execution_count": null,
   "id": "42344898-70f1-4b7b-8280-19dc91dfd6d5",
   "metadata": {},
   "outputs": [],
   "source": []
  }
 ],
 "metadata": {
  "kernelspec": {
   "display_name": "Python 3 (ipykernel)",
   "language": "python",
   "name": "python3"
  },
  "language_info": {
   "codemirror_mode": {
    "name": "ipython",
    "version": 3
   },
   "file_extension": ".py",
   "mimetype": "text/x-python",
   "name": "python",
   "nbconvert_exporter": "python",
   "pygments_lexer": "ipython3",
   "version": "3.10.12"
  }
 },
 "nbformat": 4,
 "nbformat_minor": 5
}
