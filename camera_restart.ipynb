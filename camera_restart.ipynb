{
 "cells": [
  {
   "cell_type": "markdown",
   "metadata": {},
   "source": [
    "## Camera restart program\n",
    "Often, when we run a program that uses the racer's CSI camera, that program continues to reserve the right to use the camera. \n",
    "This leads to an error when another program tries to use the camera.\n",
    "\n",
    "To free the camera resource for another program to use. \n",
    "End the program and kernal currently using the camera.\n",
    "COPY and PASTE the following code into a terminal."
   ]
  },
  {
   "cell_type": "code",
   "execution_count": null,
   "metadata": {},
   "outputs": [],
   "source": [
    "sudo  systemctl restart nvargus-daemon"
   ]
  }
 ],
 "metadata": {
  "kernelspec": {
   "display_name": "Python 3 (ipykernel)",
   "language": "python",
   "name": "python3"
  },
  "language_info": {
   "codemirror_mode": {
    "name": "ipython",
    "version": 3
   },
   "file_extension": ".py",
   "mimetype": "text/x-python",
   "name": "python",
   "nbconvert_exporter": "python",
   "pygments_lexer": "ipython3",
   "version": "3.8.10"
  }
 },
 "nbformat": 4,
 "nbformat_minor": 4
}
