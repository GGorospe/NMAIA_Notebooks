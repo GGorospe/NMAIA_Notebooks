{
 "cells": [
  {
   "cell_type": "markdown",
   "id": "d248844d-cd89-4eaa-b310-a23d322ed0e8",
   "metadata": {},
   "source": [
    "# U1 - Utilities: Pull Updates from Github\n",
    "Author: George Gorospe, george.gorospe@nmaia.net (updated 1/15/2025)\n",
    "\n",
    "## In this first utility notebook we use git, a tool for version control, to pull the latest updates for our racer's software.\n",
    "### Version control is used within the NMAIA to send new software to each robot at each school and to help the students share their software with the NMAIA."
   ]
  },
  {
   "cell_type": "markdown",
   "id": "0db0fcb0-044b-449a-8d50-fd0f901b0064",
   "metadata": {},
   "source": [
    "### Checking the status of our software \"branch.\"\n",
    "If the main repository of software is the \"trunk\" then our software on the robot is a \"branch.\"\n",
    "The branch can be up to date, behind, or ahead. \n",
    "Up to date, means that the software on the AI Racer matches the main software repository for all racers.\n",
    "If the branch is behind, it means that there is new software on the main software repository that is missing from the AI Racer.\n",
    "If the branch is ahead, then there are vaulable changes to the software on the AI Racer, creaetd by students, that need to be shared with the main repository.\n",
    "\n",
    "### Run the next cell to check the status:"
   ]
  },
  {
   "cell_type": "code",
   "execution_count": null,
   "id": "5b2056e1-1831-4d9d-a559-12305475f8e5",
   "metadata": {},
   "outputs": [],
   "source": [
    "!git status # Here we use '!' to indicate that the command is not python, but should be run in BASH"
   ]
  },
  {
   "cell_type": "markdown",
   "id": "f337b97a-862c-4908-b0ac-236d19aaaaad",
   "metadata": {},
   "source": [
    "### You may also see that there are \"Changes not staged for commit.\"\n",
    "This is typical. Later, if you want to make changes to the code, adding a new feature or improving the code in someway. We can work together to commit your changes so they can be shared with other students in the program. "
   ]
  },
  {
   "cell_type": "markdown",
   "id": "558b6e41-fe24-4028-b56a-55b1f4e3e0d5",
   "metadata": {},
   "source": [
    "## Updating the local branch:\n",
    "If our branch is behind, then we would like to update the branch with the content from the main software repository.\n",
    "The following commands retrieve the latest version of the software, updating our branch so that it is up to date."
   ]
  },
  {
   "cell_type": "code",
   "execution_count": null,
   "id": "80272e61-99c2-4e25-951a-b4844e5b5246",
   "metadata": {},
   "outputs": [],
   "source": [
    "# Gest the latest software from the main software repo.\n",
    "!git fetch origin main\n",
    "!git reset --hard FETCH_HEAD"
   ]
  },
  {
   "cell_type": "code",
   "execution_count": null,
   "id": "5bb4b7e1-3310-415e-ba8d-96f09f192867",
   "metadata": {},
   "outputs": [],
   "source": [
    "# Check git status one more time\n",
    "!git status"
   ]
  }
 ],
 "metadata": {
  "kernelspec": {
   "display_name": "Python 3 (ipykernel)",
   "language": "python",
   "name": "python3"
  },
  "language_info": {
   "codemirror_mode": {
    "name": "ipython",
    "version": 3
   },
   "file_extension": ".py",
   "mimetype": "text/x-python",
   "name": "python",
   "nbconvert_exporter": "python",
   "pygments_lexer": "ipython3",
   "version": "3.10.12"
  }
 },
 "nbformat": 4,
 "nbformat_minor": 5
}
